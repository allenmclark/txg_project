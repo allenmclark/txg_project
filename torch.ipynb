{
 "cells": [
  {
   "cell_type": "code",
   "execution_count": 2,
   "metadata": {},
   "outputs": [],
   "source": [
    "from sympy import symbols, diff, E, sin, N, lambdify\n",
    "import math\n",
    "import numpy as np\n",
    "import torch"
   ]
  },
  {
   "cell_type": "code",
   "execution_count": 23,
   "metadata": {},
   "outputs": [],
   "source": [
    "x,t = symbols('x t')"
   ]
  },
  {
   "cell_type": "code",
   "execution_count": 40,
   "metadata": {},
   "outputs": [
    {
     "name": "stdout",
     "output_type": "stream",
     "text": [
      "0.04225181285251346\n"
     ]
    }
   ],
   "source": [
    "rho = 8.92\n",
    "sigma = .092\n",
    "K = .95\n",
    "L = 80\n",
    "c = (K/(sigma*rho))**.5\n",
    "\n",
    "alpha = 1.157633\n",
    "\n",
    "def lam(n):\n",
    "    return c * n * np.pi / L\n",
    "print(lam(1))\n",
    "\n",
    "# u() is the analytical solution to our 1d heat equation problem\n",
    "# def u(x,t):\n",
    "u = 100 * E**(-.04225**2*t) * sin((np.pi/L)*x)\n"
   ]
  },
  {
   "cell_type": "code",
   "execution_count": 41,
   "metadata": {},
   "outputs": [],
   "source": [
    "dt = diff(u,t)\n",
    "dx = diff(u,x)\n",
    "d2x = diff(dx,x)"
   ]
  },
  {
   "cell_type": "code",
   "execution_count": 42,
   "metadata": {},
   "outputs": [
    {
     "name": "stdout",
     "output_type": "stream",
     "text": [
      "dt -0.17850625*exp(-0.0017850625*t)*sin(0.0392699081698724*x) dx 3.92699081698724*exp(-0.0017850625*t)*cos(0.0392699081698724*x) d2x -0.154212568767021*exp(-0.0017850625*t)*sin(0.0392699081698724*x)\n"
     ]
    }
   ],
   "source": [
    "print('dt',dt,'dx',dx,'d2x',d2x)"
   ]
  },
  {
   "cell_type": "code",
   "execution_count": 44,
   "metadata": {},
   "outputs": [
    {
     "data": {
      "text/latex": [
       "$\\displaystyle - 0.17851 e^{- 0.0017850625 t} \\sin{\\left(0.0392699081698724 x \\right)}$"
      ],
      "text/plain": [
       "-0.17851*exp(-0.0017850625*t)*sin(0.0392699081698724*x)"
      ]
     },
     "execution_count": 44,
     "metadata": {},
     "output_type": "execute_result"
    }
   ],
   "source": [
    "N(dt,5)"
   ]
  },
  {
   "cell_type": "code",
   "execution_count": 7,
   "metadata": {},
   "outputs": [
    {
     "data": {
      "text/plain": [
       "False"
      ]
     },
     "execution_count": 7,
     "metadata": {},
     "output_type": "execute_result"
    }
   ],
   "source": [
    "torch.cuda.is_available()"
   ]
  },
  {
   "cell_type": "code",
   "execution_count": 19,
   "metadata": {},
   "outputs": [
    {
     "data": {
      "text/plain": [
       "tensor([[ 0, 10],\n",
       "        [ 1, 11],\n",
       "        [ 2, 12],\n",
       "        [ 3, 13],\n",
       "        [ 4, 14],\n",
       "        [ 5, 15],\n",
       "        [ 6, 16],\n",
       "        [ 7, 17],\n",
       "        [ 8, 18],\n",
       "        [ 9, 19]])"
      ]
     },
     "execution_count": 19,
     "metadata": {},
     "output_type": "execute_result"
    }
   ],
   "source": [
    "a = torch.arange(0,10,1)\n",
    "b = torch.arange(10,20,1)\n",
    "torch.stack((a,b),dim=1)"
   ]
  }
 ],
 "metadata": {
  "kernelspec": {
   "display_name": "env",
   "language": "python",
   "name": "python3"
  },
  "language_info": {
   "codemirror_mode": {
    "name": "ipython",
    "version": 3
   },
   "file_extension": ".py",
   "mimetype": "text/x-python",
   "name": "python",
   "nbconvert_exporter": "python",
   "pygments_lexer": "ipython3",
   "version": "3.11.3"
  },
  "orig_nbformat": 4
 },
 "nbformat": 4,
 "nbformat_minor": 2
}
