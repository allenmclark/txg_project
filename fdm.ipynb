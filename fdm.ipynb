{
 "cells": [
  {
   "cell_type": "code",
   "execution_count": 2,
   "metadata": {},
   "outputs": [
    {
     "ename": "ModuleNotFoundError",
     "evalue": "No module named 'torch'",
     "output_type": "error",
     "traceback": [
      "\u001b[0;31m---------------------------------------------------------------------------\u001b[0m",
      "\u001b[0;31mModuleNotFoundError\u001b[0m                       Traceback (most recent call last)",
      "\u001b[0;32m<ipython-input-2-18e7fcb20c7f>\u001b[0m in \u001b[0;36m<module>\u001b[0;34m\u001b[0m\n\u001b[1;32m      1\u001b[0m \u001b[0;32mimport\u001b[0m \u001b[0mpandas\u001b[0m \u001b[0;32mas\u001b[0m \u001b[0mpd\u001b[0m\u001b[0;34m\u001b[0m\u001b[0;34m\u001b[0m\u001b[0m\n\u001b[0;32m----> 2\u001b[0;31m \u001b[0;32mimport\u001b[0m \u001b[0mtorch\u001b[0m\u001b[0;34m\u001b[0m\u001b[0;34m\u001b[0m\u001b[0m\n\u001b[0m",
      "\u001b[0;31mModuleNotFoundError\u001b[0m: No module named 'torch'"
     ]
    }
   ],
   "source": [
    "import pandas as pd\n",
    "import torch"
   ]
  },
  {
   "cell_type": "code",
   "execution_count": null,
   "metadata": {},
   "outputs": [
    {
     "name": "stdout",
     "output_type": "stream",
     "text": [
      "2D heat equation solver\n"
     ]
    },
    {
     "name": "stderr",
     "output_type": "stream",
     "text": [
      "MovieWriter ffmpeg unavailable; using Pillow instead.\n"
     ]
    },
    {
     "name": "stdout",
     "output_type": "stream",
     "text": [
      "Done!\n"
     ]
    },
    {
     "data": {
      "image/png": "[encoded data removed]",
      "text/plain": [
       "<Figure size 640x480 with 2 Axes>"
      ]
     },
     "metadata": {},
     "output_type": "display_data"
    }
   ],
   "source": [
    "import numpy as np\n",
    "import matplotlib.pyplot as plt\n",
    "import matplotlib.animation as animation\n",
    "from matplotlib.animation import FuncAnimation\n",
    "\n",
    "print(\"2D heat equation solver\")\n",
    "\n",
    "plate_length = 50\n",
    "max_iter_time = 1000\n",
    "\n",
    "alpha = 2\n",
    "delta_x = 1\n",
    "\n",
    "delta_t = .1 #(delta_x ** 2)/(4 * alpha)\n",
    "gamma = (alpha * delta_t) / (delta_x ** 2)\n",
    "\n",
    "# Initialize solution: the grid of u(k, i, j)\n",
    "u = np.empty((max_iter_time, plate_length, plate_length))\n",
    "\n",
    "# Initial condition everywhere inside the grid\n",
    "u_initial = 0\n",
    "\n",
    "# Boundary conditions\n",
    "u_top = 100.0\n",
    "u_left = 0.0\n",
    "u_bottom = 0.0\n",
    "u_right = 0.0\n",
    "\n",
    "# Set the initial condition\n",
    "u.fill(u_initial)\n",
    "\n",
    "# Set the boundary conditions\n",
    "u[:, (plate_length-1):, :] = u_top\n",
    "u[:, :, :1] = u_left\n",
    "u[:, :1, 1:] = u_bottom\n",
    "u[:, :, (plate_length-1):] = u_right\n",
    "\n",
    "def calculate(u):\n",
    "    for k in range(0, max_iter_time-1, 1):\n",
    "        for i in range(1, plate_length-1, delta_x):\n",
    "            for j in range(1, plate_length-1, delta_x):\n",
    "                u[k + 1, i, j] = gamma * (u[k][i+1][j] + u[k][i-1][j] + u[k][i][j+1] + u[k][i][j-1] - 4*u[k][i][j]) + u[k][i][j]\n",
    "\n",
    "    return u\n",
    "\n",
    "def plotheatmap(u_k, k):\n",
    "    # Clear the current plot figure\n",
    "    plt.clf()\n",
    "\n",
    "    plt.title(f\"Temperature at t = {k*delta_t:.3f} unit time\")\n",
    "    plt.xlabel(\"x\")\n",
    "    plt.ylabel(\"y\")\n",
    "\n",
    "    # This is to plot u_k (u at time-step k)\n",
    "    plt.pcolormesh(u_k, cmap=plt.cm.jet, vmin=0, vmax=100)\n",
    "    plt.colorbar()\n",
    "\n",
    "    return plt\n",
    "\n",
    "# Do the calculation here\n",
    "u = calculate(u)\n",
    "\n",
    "def animate(k):\n",
    "    plotheatmap(u[k], k)\n",
    "\n",
    "anim = animation.FuncAnimation(plt.figure(), animate, interval=1, frames=max_iter_time, repeat=False)\n",
    "anim.save(\"heat_equation_solution2.gif\")\n",
    "\n",
    "print(\"Done!\")"
   ]
  },
  {
   "cell_type": "code",
   "execution_count": null,
   "metadata": {},
   "outputs": [],
   "source": [
    "heat_data = u"
   ]
  },
  {
   "cell_type": "code",
   "execution_count": null,
   "metadata": {},
   "outputs": [
    {
     "data": {
      "text/plain": [
       "(1000, 50, 50)"
      ]
     },
     "execution_count": 452,
     "metadata": {},
     "output_type": "execute_result"
    }
   ],
   "source": [
    "heat_data.shape\n",
    "x = np.arange(50).b"
   ]
  },
  {
   "cell_type": "code",
   "execution_count": null,
   "metadata": {},
   "outputs": [
    {
     "data": {
      "text/plain": [
       "array([0, 0, 1, 1, 2, 2])"
      ]
     },
     "execution_count": 458,
     "metadata": {},
     "output_type": "execute_result"
    }
   ],
   "source": [
    "np.arange(3).repeat(2)"
   ]
  },
  {
   "cell_type": "code",
   "execution_count": null,
   "metadata": {},
   "outputs": [],
   "source": [
    "# total = np.stack((np.repeat(np.arange(0,1500),100*100), np.repeat(np.arange(0,100),1500*100), np.repeat(np.arange(0,100),1500*100),data.flatten()),axis=1).reshape(1500,100,100,4)\n",
    "#change to repeat for first term "
   ]
  },
  {
   "cell_type": "code",
   "execution_count": null,
   "metadata": {},
   "outputs": [
    {
     "data": {
      "text/plain": [
       "(50,)"
      ]
     },
     "execution_count": 411,
     "metadata": {},
     "output_type": "execute_result"
    }
   ],
   "source": [
    "x_range.shape"
   ]
  },
  {
   "cell_type": "code",
   "execution_count": null,
   "metadata": {},
   "outputs": [],
   "source": [
    "import numpy as np\n",
    "\n",
    "# Define the ranges for each dimension\n",
    "x_range = np.arange(0, 50)\n",
    "y_range = np.arange(0, 50)\n",
    "t_range = np.linspace(0, 999,1000)\n",
    "\n",
    "\n",
    "# Create meshgrids for each dimension\n",
    "t_grid, y_grid, x_grid = np.meshgrid(t_range, y_range,x_range)\n",
    "\n",
    "# combined_array = np.stack([t_grid, y_grid, x_grid,heat_data.reshape(1000,50,50)], axis=-1)\n",
    "\n",
    "# print(f\"Shape of the combined array: {combined_array.shape}\")\n",
    "\n"
   ]
  },
  {
   "cell_type": "code",
   "execution_count": null,
   "metadata": {},
   "outputs": [
    {
     "data": {
      "text/plain": [
       "(50, 1000, 50)"
      ]
     },
     "execution_count": 424,
     "metadata": {},
     "output_type": "execute_result"
    }
   ],
   "source": [
    "t_grid.shape"
   ]
  },
  {
   "cell_type": "code",
   "execution_count": null,
   "metadata": {},
   "outputs": [
    {
     "data": {
      "text/plain": [
       "(100, 100, 100)"
      ]
     },
     "execution_count": 363,
     "metadata": {},
     "output_type": "execute_result"
    }
   ],
   "source": [
    "y_grid.shape"
   ]
  },
  {
   "cell_type": "code",
   "execution_count": null,
   "metadata": {},
   "outputs": [
    {
     "name": "stdout",
     "output_type": "stream",
     "text": [
      "[[[[1 1 1]\n",
      "   [1 1 2]\n",
      "   [1 1 3]\n",
      "   [1 1 4]]\n",
      "\n",
      "  [[2 1 1]\n",
      "   [2 1 2]\n",
      "   [2 1 3]\n",
      "   [2 1 4]]]\n",
      "\n",
      "\n",
      " [[[1 2 1]\n",
      "   [1 2 2]\n",
      "   [1 2 3]\n",
      "   [1 2 4]]\n",
      "\n",
      "  [[2 2 1]\n",
      "   [2 2 2]\n",
      "   [2 2 3]\n",
      "   [2 2 4]]]]\n"
     ]
    }
   ],
   "source": [
    "import numpy as np\n",
    "\n",
    "a = np.array([1, 2])\n",
    "b = np.array([1, 2])\n",
    "c = np.array([1, 2, 3, 4])\n",
    "\n",
    "# Create meshgrids for each array\n",
    "a_grid, b_grid, c_grid = np.meshgrid(a, b, c)\n",
    "\n",
    "# Combine the grids into a single array\n",
    "combined_array = np.stack([a_grid, b_grid, c_grid], axis=-1)\n",
    "\n",
    "print(combined_array)\n"
   ]
  },
  {
   "cell_type": "code",
   "execution_count": null,
   "metadata": {},
   "outputs": [
    {
     "name": "stdout",
     "output_type": "stream",
     "text": [
      "[[[[0.00000000e+00 0.00000000e+00 0.00000000e+00 0.00000000e+00]\n",
      "   [0.00000000e+00 0.00000000e+00 1.00000000e+00 0.00000000e+00]\n",
      "   [0.00000000e+00 0.00000000e+00 2.00000000e+00 0.00000000e+00]\n",
      "   ...\n",
      "   [0.00000000e+00 0.00000000e+00 4.70000000e+01 0.00000000e+00]\n",
      "   [0.00000000e+00 0.00000000e+00 4.80000000e+01 0.00000000e+00]\n",
      "   [0.00000000e+00 0.00000000e+00 4.90000000e+01 0.00000000e+00]]\n",
      "\n",
      "  [[1.00000000e+00 0.00000000e+00 0.00000000e+00 0.00000000e+00]\n",
      "   [1.00000000e+00 0.00000000e+00 1.00000000e+00 0.00000000e+00]\n",
      "   [1.00000000e+00 0.00000000e+00 2.00000000e+00 0.00000000e+00]\n",
      "   ...\n",
      "   [1.00000000e+00 0.00000000e+00 4.70000000e+01 0.00000000e+00]\n",
      "   [1.00000000e+00 0.00000000e+00 4.80000000e+01 0.00000000e+00]\n",
      "   [1.00000000e+00 0.00000000e+00 4.90000000e+01 0.00000000e+00]]\n",
      "\n",
      "  [[2.00000000e+00 0.00000000e+00 0.00000000e+00 0.00000000e+00]\n",
      "   [2.00000000e+00 0.00000000e+00 1.00000000e+00 0.00000000e+00]\n",
      "   [2.00000000e+00 0.00000000e+00 2.00000000e+00 0.00000000e+00]\n",
      "   ...\n",
      "   [2.00000000e+00 0.00000000e+00 4.70000000e+01 0.00000000e+00]\n",
      "   [2.00000000e+00 0.00000000e+00 4.80000000e+01 0.00000000e+00]\n",
      "   [2.00000000e+00 0.00000000e+00 4.90000000e+01 0.00000000e+00]]\n",
      "\n",
      "  ...\n",
      "\n",
      "  [[9.97000000e+02 0.00000000e+00 0.00000000e+00 0.00000000e+00]\n",
      "   [9.97000000e+02 0.00000000e+00 1.00000000e+00 2.31865618e+01]\n",
      "   [9.97000000e+02 0.00000000e+00 2.00000000e+00 3.63007504e+01]\n",
      "   ...\n",
      "   [9.97000000e+02 0.00000000e+00 4.70000000e+01 3.63007504e+01]\n",
      "   [9.97000000e+02 0.00000000e+00 4.80000000e+01 2.31865618e+01]\n",
      "   [9.97000000e+02 0.00000000e+00 4.90000000e+01 0.00000000e+00]]\n",
      "\n",
      "  [[9.98000000e+02 0.00000000e+00 0.00000000e+00 0.00000000e+00]\n",
      "   [9.98000000e+02 0.00000000e+00 1.00000000e+00 4.61413850e+01]\n",
      "   [9.98000000e+02 0.00000000e+00 2.00000000e+00 6.22712697e+01]\n",
      "   ...\n",
      "   [9.98000000e+02 0.00000000e+00 4.70000000e+01 6.22712697e+01]\n",
      "   [9.98000000e+02 0.00000000e+00 4.80000000e+01 4.61413850e+01]\n",
      "   [9.98000000e+02 0.00000000e+00 4.90000000e+01 0.00000000e+00]]\n",
      "\n",
      "  [[9.99000000e+02 0.00000000e+00 0.00000000e+00 0.00000000e+00]\n",
      "   [9.99000000e+02 0.00000000e+00 1.00000000e+00 1.00000000e+02]\n",
      "   [9.99000000e+02 0.00000000e+00 2.00000000e+00 1.00000000e+02]\n",
      "   ...\n",
      "   [9.99000000e+02 0.00000000e+00 4.70000000e+01 1.00000000e+02]\n",
      "   [9.99000000e+02 0.00000000e+00 4.80000000e+01 1.00000000e+02]\n",
      "   [9.99000000e+02 0.00000000e+00 4.90000000e+01 0.00000000e+00]]]\n",
      "\n",
      "\n",
      " [[[0.00000000e+00 1.00000000e+00 0.00000000e+00 0.00000000e+00]\n",
      "   [0.00000000e+00 1.00000000e+00 1.00000000e+00 0.00000000e+00]\n",
      "   [0.00000000e+00 1.00000000e+00 2.00000000e+00 0.00000000e+00]\n",
      "   ...\n",
      "   [0.00000000e+00 1.00000000e+00 4.70000000e+01 0.00000000e+00]\n",
      "   [0.00000000e+00 1.00000000e+00 4.80000000e+01 0.00000000e+00]\n",
      "   [0.00000000e+00 1.00000000e+00 4.90000000e+01 0.00000000e+00]]\n",
      "\n",
      "  [[1.00000000e+00 1.00000000e+00 0.00000000e+00 0.00000000e+00]\n",
      "   [1.00000000e+00 1.00000000e+00 1.00000000e+00 0.00000000e+00]\n",
      "   [1.00000000e+00 1.00000000e+00 2.00000000e+00 0.00000000e+00]\n",
      "   ...\n",
      "   [1.00000000e+00 1.00000000e+00 4.70000000e+01 0.00000000e+00]\n",
      "   [1.00000000e+00 1.00000000e+00 4.80000000e+01 0.00000000e+00]\n",
      "   [1.00000000e+00 1.00000000e+00 4.90000000e+01 0.00000000e+00]]\n",
      "\n",
      "  [[2.00000000e+00 1.00000000e+00 0.00000000e+00 0.00000000e+00]\n",
      "   [2.00000000e+00 1.00000000e+00 1.00000000e+00 0.00000000e+00]\n",
      "   [2.00000000e+00 1.00000000e+00 2.00000000e+00 0.00000000e+00]\n",
      "   ...\n",
      "   [2.00000000e+00 1.00000000e+00 4.70000000e+01 0.00000000e+00]\n",
      "   [2.00000000e+00 1.00000000e+00 4.80000000e+01 0.00000000e+00]\n",
      "   [2.00000000e+00 1.00000000e+00 4.90000000e+01 0.00000000e+00]]\n",
      "\n",
      "  ...\n",
      "\n",
      "  [[9.97000000e+02 1.00000000e+00 0.00000000e+00 0.00000000e+00]\n",
      "   [9.97000000e+02 1.00000000e+00 1.00000000e+00 2.64934518e+01]\n",
      "   [9.97000000e+02 1.00000000e+00 2.00000000e+00 4.26282214e+01]\n",
      "   ...\n",
      "   [9.97000000e+02 1.00000000e+00 4.70000000e+01 4.26282214e+01]\n",
      "   [9.97000000e+02 1.00000000e+00 4.80000000e+01 2.64934518e+01]\n",
      "   [9.97000000e+02 1.00000000e+00 4.90000000e+01 0.00000000e+00]]\n",
      "\n",
      "  [[9.98000000e+02 1.00000000e+00 0.00000000e+00 0.00000000e+00]\n",
      "   [9.98000000e+02 1.00000000e+00 1.00000000e+00 4.80411262e+01]\n",
      "   [9.98000000e+02 1.00000000e+00 2.00000000e+00 6.59063630e+01]\n",
      "   ...\n",
      "   [9.98000000e+02 1.00000000e+00 4.70000000e+01 6.59063630e+01]\n",
      "   [9.98000000e+02 1.00000000e+00 4.80000000e+01 4.80411262e+01]\n",
      "   [9.98000000e+02 1.00000000e+00 4.90000000e+01 0.00000000e+00]]\n",
      "\n",
      "  [[9.99000000e+02 1.00000000e+00 0.00000000e+00 0.00000000e+00]\n",
      "   [9.99000000e+02 1.00000000e+00 1.00000000e+00 1.00000000e+02]\n",
      "   [9.99000000e+02 1.00000000e+00 2.00000000e+00 1.00000000e+02]\n",
      "   ...\n",
      "   [9.99000000e+02 1.00000000e+00 4.70000000e+01 1.00000000e+02]\n",
      "   [9.99000000e+02 1.00000000e+00 4.80000000e+01 1.00000000e+02]\n",
      "   [9.99000000e+02 1.00000000e+00 4.90000000e+01 0.00000000e+00]]]\n",
      "\n",
      "\n",
      " [[[0.00000000e+00 2.00000000e+00 0.00000000e+00 0.00000000e+00]\n",
      "   [0.00000000e+00 2.00000000e+00 1.00000000e+00 0.00000000e+00]\n",
      "   [0.00000000e+00 2.00000000e+00 2.00000000e+00 0.00000000e+00]\n",
      "   ...\n",
      "   [0.00000000e+00 2.00000000e+00 4.70000000e+01 0.00000000e+00]\n",
      "   [0.00000000e+00 2.00000000e+00 4.80000000e+01 0.00000000e+00]\n",
      "   [0.00000000e+00 2.00000000e+00 4.90000000e+01 0.00000000e+00]]\n",
      "\n",
      "  [[1.00000000e+00 2.00000000e+00 0.00000000e+00 0.00000000e+00]\n",
      "   [1.00000000e+00 2.00000000e+00 1.00000000e+00 0.00000000e+00]\n",
      "   [1.00000000e+00 2.00000000e+00 2.00000000e+00 0.00000000e+00]\n",
      "   ...\n",
      "   [1.00000000e+00 2.00000000e+00 4.70000000e+01 0.00000000e+00]\n",
      "   [1.00000000e+00 2.00000000e+00 4.80000000e+01 0.00000000e+00]\n",
      "   [1.00000000e+00 2.00000000e+00 4.90000000e+01 0.00000000e+00]]\n",
      "\n",
      "  [[2.00000000e+00 2.00000000e+00 0.00000000e+00 0.00000000e+00]\n",
      "   [2.00000000e+00 2.00000000e+00 1.00000000e+00 0.00000000e+00]\n",
      "   [2.00000000e+00 2.00000000e+00 2.00000000e+00 0.00000000e+00]\n",
      "   ...\n",
      "   [2.00000000e+00 2.00000000e+00 4.70000000e+01 0.00000000e+00]\n",
      "   [2.00000000e+00 2.00000000e+00 4.80000000e+01 0.00000000e+00]\n",
      "   [2.00000000e+00 2.00000000e+00 4.90000000e+01 0.00000000e+00]]\n",
      "\n",
      "  ...\n",
      "\n",
      "  [[9.97000000e+02 2.00000000e+00 0.00000000e+00 0.00000000e+00]\n",
      "   [9.97000000e+02 2.00000000e+00 1.00000000e+00 2.76893399e+01]\n",
      "   [9.97000000e+02 2.00000000e+00 2.00000000e+00 4.49603550e+01]\n",
      "   ...\n",
      "   [9.97000000e+02 2.00000000e+00 4.70000000e+01 4.49603550e+01]\n",
      "   [9.97000000e+02 2.00000000e+00 4.80000000e+01 2.76893399e+01]\n",
      "   [9.97000000e+02 2.00000000e+00 4.90000000e+01 0.00000000e+00]]\n",
      "\n",
      "  [[9.98000000e+02 2.00000000e+00 0.00000000e+00 0.00000000e+00]\n",
      "   [9.98000000e+02 2.00000000e+00 1.00000000e+00 4.86873685e+01]\n",
      "   [9.98000000e+02 2.00000000e+00 2.00000000e+00 6.71666376e+01]\n",
      "   ...\n",
      "   [9.98000000e+02 2.00000000e+00 4.70000000e+01 6.71666376e+01]\n",
      "   [9.98000000e+02 2.00000000e+00 4.80000000e+01 4.86873685e+01]\n",
      "   [9.98000000e+02 2.00000000e+00 4.90000000e+01 0.00000000e+00]]\n",
      "\n",
      "  [[9.99000000e+02 2.00000000e+00 0.00000000e+00 0.00000000e+00]\n",
      "   [9.99000000e+02 2.00000000e+00 1.00000000e+00 1.00000000e+02]\n",
      "   [9.99000000e+02 2.00000000e+00 2.00000000e+00 1.00000000e+02]\n",
      "   ...\n",
      "   [9.99000000e+02 2.00000000e+00 4.70000000e+01 1.00000000e+02]\n",
      "   [9.99000000e+02 2.00000000e+00 4.80000000e+01 1.00000000e+02]\n",
      "   [9.99000000e+02 2.00000000e+00 4.90000000e+01 0.00000000e+00]]]\n",
      "\n",
      "\n",
      " ...\n",
      "\n",
      "\n",
      " [[[0.00000000e+00 4.70000000e+01 0.00000000e+00 0.00000000e+00]\n",
      "   [0.00000000e+00 4.70000000e+01 1.00000000e+00 0.00000000e+00]\n",
      "   [0.00000000e+00 4.70000000e+01 2.00000000e+00 0.00000000e+00]\n",
      "   ...\n",
      "   [0.00000000e+00 4.70000000e+01 4.70000000e+01 0.00000000e+00]\n",
      "   [0.00000000e+00 4.70000000e+01 4.80000000e+01 0.00000000e+00]\n",
      "   [0.00000000e+00 4.70000000e+01 4.90000000e+01 0.00000000e+00]]\n",
      "\n",
      "  [[1.00000000e+00 4.70000000e+01 0.00000000e+00 0.00000000e+00]\n",
      "   [1.00000000e+00 4.70000000e+01 1.00000000e+00 1.55858718e-02]\n",
      "   [1.00000000e+00 4.70000000e+01 2.00000000e+00 3.10994519e-02]\n",
      "   ...\n",
      "   [1.00000000e+00 4.70000000e+01 4.70000000e+01 3.10994519e-02]\n",
      "   [1.00000000e+00 4.70000000e+01 4.80000000e+01 1.55858718e-02]\n",
      "   [1.00000000e+00 4.70000000e+01 4.90000000e+01 0.00000000e+00]]\n",
      "\n",
      "  [[2.00000000e+00 4.70000000e+01 0.00000000e+00 0.00000000e+00]\n",
      "   [2.00000000e+00 4.70000000e+01 1.00000000e+00 3.14269169e-02]\n",
      "   [2.00000000e+00 4.70000000e+01 2.00000000e+00 6.27078797e-02]\n",
      "   ...\n",
      "   [2.00000000e+00 4.70000000e+01 4.70000000e+01 6.27078797e-02]\n",
      "   [2.00000000e+00 4.70000000e+01 4.80000000e+01 3.14269169e-02]\n",
      "   [2.00000000e+00 4.70000000e+01 4.90000000e+01 0.00000000e+00]]\n",
      "\n",
      "  ...\n",
      "\n",
      "  [[9.97000000e+02 4.70000000e+01 0.00000000e+00 0.00000000e+00]\n",
      "   [9.97000000e+02 4.70000000e+01 1.00000000e+00 3.00647169e+01]\n",
      "   [9.97000000e+02 4.70000000e+01 2.00000000e+00 4.96600702e+01]\n",
      "   ...\n",
      "   [9.97000000e+02 4.70000000e+01 4.70000000e+01 4.96600702e+01]\n",
      "   [9.97000000e+02 4.70000000e+01 4.80000000e+01 3.00647169e+01]\n",
      "   [9.97000000e+02 4.70000000e+01 4.90000000e+01 0.00000000e+00]]\n",
      "\n",
      "  [[9.98000000e+02 4.70000000e+01 0.00000000e+00 0.00000000e+00]\n",
      "   [9.98000000e+02 4.70000000e+01 1.00000000e+00 4.99148212e+01]\n",
      "   [9.98000000e+02 4.70000000e+01 2.00000000e+00 6.95949604e+01]\n",
      "   ...\n",
      "   [9.98000000e+02 4.70000000e+01 4.70000000e+01 6.95949604e+01]\n",
      "   [9.98000000e+02 4.70000000e+01 4.80000000e+01 4.99148212e+01]\n",
      "   [9.98000000e+02 4.70000000e+01 4.90000000e+01 0.00000000e+00]]\n",
      "\n",
      "  [[9.99000000e+02 4.70000000e+01 0.00000000e+00 0.00000000e+00]\n",
      "   [9.99000000e+02 4.70000000e+01 1.00000000e+00 1.00000000e+02]\n",
      "   [9.99000000e+02 4.70000000e+01 2.00000000e+00 1.00000000e+02]\n",
      "   ...\n",
      "   [9.99000000e+02 4.70000000e+01 4.70000000e+01 1.00000000e+02]\n",
      "   [9.99000000e+02 4.70000000e+01 4.80000000e+01 1.00000000e+02]\n",
      "   [9.99000000e+02 4.70000000e+01 4.90000000e+01 0.00000000e+00]]]\n",
      "\n",
      "\n",
      " [[[0.00000000e+00 4.80000000e+01 0.00000000e+00 0.00000000e+00]\n",
      "   [0.00000000e+00 4.80000000e+01 1.00000000e+00 0.00000000e+00]\n",
      "   [0.00000000e+00 4.80000000e+01 2.00000000e+00 0.00000000e+00]\n",
      "   ...\n",
      "   [0.00000000e+00 4.80000000e+01 4.70000000e+01 0.00000000e+00]\n",
      "   [0.00000000e+00 4.80000000e+01 4.80000000e+01 0.00000000e+00]\n",
      "   [0.00000000e+00 4.80000000e+01 4.90000000e+01 0.00000000e+00]]\n",
      "\n",
      "  [[1.00000000e+00 4.80000000e+01 0.00000000e+00 0.00000000e+00]\n",
      "   [1.00000000e+00 4.80000000e+01 1.00000000e+00 1.63150775e-02]\n",
      "   [1.00000000e+00 4.80000000e+01 2.00000000e+00 3.25548209e-02]\n",
      "   ...\n",
      "   [1.00000000e+00 4.80000000e+01 4.70000000e+01 3.25548209e-02]\n",
      "   [1.00000000e+00 4.80000000e+01 4.80000000e+01 1.63150775e-02]\n",
      "   [1.00000000e+00 4.80000000e+01 4.90000000e+01 0.00000000e+00]]\n",
      "\n",
      "  [[2.00000000e+00 4.80000000e+01 0.00000000e+00 0.00000000e+00]\n",
      "   [2.00000000e+00 4.80000000e+01 1.00000000e+00 3.28870978e-02]\n",
      "   [2.00000000e+00 4.80000000e+01 2.00000000e+00 6.56221494e-02]\n",
      "   ...\n",
      "   [2.00000000e+00 4.80000000e+01 4.70000000e+01 6.56221494e-02]\n",
      "   [2.00000000e+00 4.80000000e+01 4.80000000e+01 3.28870978e-02]\n",
      "   [2.00000000e+00 4.80000000e+01 4.90000000e+01 0.00000000e+00]]\n",
      "\n",
      "  ...\n",
      "\n",
      "  [[9.97000000e+02 4.80000000e+01 0.00000000e+00 0.00000000e+00]\n",
      "   [9.97000000e+02 4.80000000e+01 1.00000000e+00 3.00677761e+01]\n",
      "   [9.97000000e+02 4.80000000e+01 2.00000000e+00 4.96661758e+01]\n",
      "   ...\n",
      "   [9.97000000e+02 4.80000000e+01 4.70000000e+01 4.96661758e+01]\n",
      "   [9.97000000e+02 4.80000000e+01 4.80000000e+01 3.00677761e+01]\n",
      "   [9.97000000e+02 4.80000000e+01 4.90000000e+01 0.00000000e+00]]\n",
      "\n",
      "  [[9.98000000e+02 4.80000000e+01 0.00000000e+00 0.00000000e+00]\n",
      "   [9.98000000e+02 4.80000000e+01 1.00000000e+00 4.99163567e+01]\n",
      "   [9.98000000e+02 4.80000000e+01 2.00000000e+00 6.95980251e+01]\n",
      "   ...\n",
      "   [9.98000000e+02 4.80000000e+01 4.70000000e+01 6.95980251e+01]\n",
      "   [9.98000000e+02 4.80000000e+01 4.80000000e+01 4.99163567e+01]\n",
      "   [9.98000000e+02 4.80000000e+01 4.90000000e+01 0.00000000e+00]]\n",
      "\n",
      "  [[9.99000000e+02 4.80000000e+01 0.00000000e+00 0.00000000e+00]\n",
      "   [9.99000000e+02 4.80000000e+01 1.00000000e+00 1.00000000e+02]\n",
      "   [9.99000000e+02 4.80000000e+01 2.00000000e+00 1.00000000e+02]\n",
      "   ...\n",
      "   [9.99000000e+02 4.80000000e+01 4.70000000e+01 1.00000000e+02]\n",
      "   [9.99000000e+02 4.80000000e+01 4.80000000e+01 1.00000000e+02]\n",
      "   [9.99000000e+02 4.80000000e+01 4.90000000e+01 0.00000000e+00]]]\n",
      "\n",
      "\n",
      " [[[0.00000000e+00 4.90000000e+01 0.00000000e+00 0.00000000e+00]\n",
      "   [0.00000000e+00 4.90000000e+01 1.00000000e+00 0.00000000e+00]\n",
      "   [0.00000000e+00 4.90000000e+01 2.00000000e+00 0.00000000e+00]\n",
      "   ...\n",
      "   [0.00000000e+00 4.90000000e+01 4.70000000e+01 0.00000000e+00]\n",
      "   [0.00000000e+00 4.90000000e+01 4.80000000e+01 0.00000000e+00]\n",
      "   [0.00000000e+00 4.90000000e+01 4.90000000e+01 0.00000000e+00]]\n",
      "\n",
      "  [[1.00000000e+00 4.90000000e+01 0.00000000e+00 0.00000000e+00]\n",
      "   [1.00000000e+00 4.90000000e+01 1.00000000e+00 1.70386510e-02]\n",
      "   [1.00000000e+00 4.90000000e+01 2.00000000e+00 3.39989548e-02]\n",
      "   ...\n",
      "   [1.00000000e+00 4.90000000e+01 4.70000000e+01 3.39989548e-02]\n",
      "   [1.00000000e+00 4.90000000e+01 4.80000000e+01 1.70386510e-02]\n",
      "   [1.00000000e+00 4.90000000e+01 4.90000000e+01 0.00000000e+00]]\n",
      "\n",
      "  [[2.00000000e+00 4.90000000e+01 0.00000000e+00 0.00000000e+00]\n",
      "   [2.00000000e+00 4.90000000e+01 1.00000000e+00 3.43357056e-02]\n",
      "   [2.00000000e+00 4.90000000e+01 2.00000000e+00 6.85133325e-02]\n",
      "   ...\n",
      "   [2.00000000e+00 4.90000000e+01 4.70000000e+01 6.85133325e-02]\n",
      "   [2.00000000e+00 4.90000000e+01 4.80000000e+01 3.43357056e-02]\n",
      "   [2.00000000e+00 4.90000000e+01 4.90000000e+01 0.00000000e+00]]\n",
      "\n",
      "  ...\n",
      "\n",
      "  [[9.97000000e+02 4.90000000e+01 0.00000000e+00 0.00000000e+00]\n",
      "   [9.97000000e+02 4.90000000e+01 1.00000000e+00 3.00706941e+01]\n",
      "   [9.97000000e+02 4.90000000e+01 2.00000000e+00 4.96719997e+01]\n",
      "   ...\n",
      "   [9.97000000e+02 4.90000000e+01 4.70000000e+01 4.96719997e+01]\n",
      "   [9.97000000e+02 4.90000000e+01 4.80000000e+01 3.00706941e+01]\n",
      "   [9.97000000e+02 4.90000000e+01 4.90000000e+01 0.00000000e+00]]\n",
      "\n",
      "  [[9.98000000e+02 4.90000000e+01 0.00000000e+00 0.00000000e+00]\n",
      "   [9.98000000e+02 4.90000000e+01 1.00000000e+00 4.99178213e+01]\n",
      "   [9.98000000e+02 4.90000000e+01 2.00000000e+00 6.96009481e+01]\n",
      "   ...\n",
      "   [9.98000000e+02 4.90000000e+01 4.70000000e+01 6.96009481e+01]\n",
      "   [9.98000000e+02 4.90000000e+01 4.80000000e+01 4.99178213e+01]\n",
      "   [9.98000000e+02 4.90000000e+01 4.90000000e+01 0.00000000e+00]]\n",
      "\n",
      "  [[9.99000000e+02 4.90000000e+01 0.00000000e+00 0.00000000e+00]\n",
      "   [9.99000000e+02 4.90000000e+01 1.00000000e+00 1.00000000e+02]\n",
      "   [9.99000000e+02 4.90000000e+01 2.00000000e+00 1.00000000e+02]\n",
      "   ...\n",
      "   [9.99000000e+02 4.90000000e+01 4.70000000e+01 1.00000000e+02]\n",
      "   [9.99000000e+02 4.90000000e+01 4.80000000e+01 1.00000000e+02]\n",
      "   [9.99000000e+02 4.90000000e+01 4.90000000e+01 0.00000000e+00]]]]\n"
     ]
    }
   ],
   "source": [
    "import numpy as np\n",
    "\n",
    "a = np.arange(1000)\n",
    "b = np.arange(50)\n",
    "c = np.arange(50)\n",
    "\n",
    "# Create meshgrids for each array\n",
    "a_grid, b_grid, c_grid = np.meshgrid(a, b, c)\n",
    "\n",
    "# Combine the grids into a single array\n",
    "combined_array = np.stack([a_grid, b_grid, c_grid,heat_data.reshape(50,1000,50)], axis=-1)\n",
    "\n",
    "print(combined_array)"
   ]
  },
  {
   "cell_type": "code",
   "execution_count": null,
   "metadata": {},
   "outputs": [],
   "source": [
    "z = np.array([10]).repeat(50*50*1000)"
   ]
  },
  {
   "cell_type": "code",
   "execution_count": null,
   "metadata": {},
   "outputs": [
    {
     "data": {
      "text/plain": [
       "(50, 1000, 50)"
      ]
     },
     "execution_count": 455,
     "metadata": {},
     "output_type": "execute_result"
    }
   ],
   "source": [
    "a_grid.shape"
   ]
  },
  {
   "cell_type": "code",
   "execution_count": null,
   "metadata": {},
   "outputs": [],
   "source": [
    "import numpy as np\n",
    "\n",
    "# Assuming your temperature array is named \"temperature\"\n",
    "# Create constant arrays for x, y, and time\n",
    "x_grid = np.repeat(np.arange(0, 50), 1000 * 50).reshape(1000, 50, 50)\n",
    "y_grid = np.repeat(np.arange(0, 50)[:, None], 1000 * 50).reshape(1000, 50, 50)\n",
    "time_grid = np.arange(0, 1000)[:, None, None].repeat(50 * 50).reshape(1000, 50, 50)\n",
    "\n",
    "# Stack the arrays\n",
    "combined_array = np.stack([time_grid, x_grid, y_grid,heat_data], axis=-1)\n",
    "\n",
    "# Now combined_array has the desired shape of (1000, 50, 50, 4)\n"
   ]
  },
  {
   "cell_type": "code",
   "execution_count": null,
   "metadata": {},
   "outputs": [],
   "source": [
    "combined_array[400,49,]\n",
    "np.save('2d_data.npy',combined_array)"
   ]
  },
  {
   "cell_type": "code",
   "execution_count": null,
   "metadata": {},
   "outputs": [
    {
     "data": {
      "text/plain": [
       "True"
      ]
     },
     "execution_count": 497,
     "metadata": {},
     "output_type": "execute_result"
    }
   ],
   "source": [
    "np.array_equal(combined_array[:,:,:,3],heat_data)"
   ]
  },
  {
   "cell_type": "code",
   "execution_count": null,
   "metadata": {},
   "outputs": [],
   "source": []
  }
 ],
 "metadata": {
  "kernelspec": {
   "display_name": "env",
   "language": "python",
   "name": "python3"
  },
  "language_info": {
   "codemirror_mode": {
    "name": "ipython",
    "version": 3
   },
   "file_extension": ".py",
   "mimetype": "text/x-python",
   "name": "python",
   "nbconvert_exporter": "python",
   "pygments_lexer": "ipython3",
   "version": "3.7.3"
  }
 },
 "nbformat": 4,
 "nbformat_minor": 2
}
